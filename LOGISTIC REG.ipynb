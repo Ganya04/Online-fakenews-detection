{
 "cells": [
  {
   "cell_type": "code",
   "execution_count": 55,
   "id": "2eae76f3",
   "metadata": {},
   "outputs": [],
   "source": [
    "import pandas as pd\n",
    "import numpy as np\n",
    "from sklearn.feature_extraction.text import TfidfVectorizer\n",
    "from sklearn.linear_model import LogisticRegression\n",
    "from sklearn.metrics import classification_report\n",
    "from sklearn.model_selection import train_test_split"
   ]
  },
  {
   "cell_type": "code",
   "execution_count": 56,
   "id": "00ca0080",
   "metadata": {},
   "outputs": [],
   "source": [
    "# Preprocess the data\n",
    "import re\n",
    "import nltk\n",
    "from nltk.corpus import stopwords\n",
    "from nltk.stem import WordNetLemmatizer"
   ]
  },
  {
   "cell_type": "code",
   "execution_count": 57,
   "id": "3a640cdb",
   "metadata": {},
   "outputs": [],
   "source": [
    "file_path1=\"C:\\\\Users\\\\ganya\\\\OneDrive\\\\Documents\\\\IIT GANYA\\\\SPRING 2023\\\\OSNA\\\\Project -2\\\\prepro_train.csv\"\n",
    "train_df = pd.read_csv(file_path1)\n",
    "file_path2=\"C:\\\\Users\\\\ganya\\\\OneDrive\\\\Documents\\\\IIT GANYA\\\\SPRING 2023\\\\OSNA\\\\Project -2\\\\prepro_test.csv\"\n",
    "test_df = pd.read_csv(file_path2)"
   ]
  },
  {
   "cell_type": "code",
   "execution_count": 58,
   "id": "0dc2e969",
   "metadata": {},
   "outputs": [],
   "source": [
    "train_df['title1_en']=train_df['title1_en'].apply(str)\n",
    "train_df['title2_en']=train_df['title2_en'].apply(str)\n",
    "test_df['title1_en']=test_df['title1_en'].apply(str)\n",
    "test_df['title2_en']=test_df['title2_en'].apply(str)"
   ]
  },
  {
   "cell_type": "code",
   "execution_count": 59,
   "id": "2d635606",
   "metadata": {},
   "outputs": [],
   "source": [
    "# initialize WordNetLemmatizer\n",
    "lemmatizer = WordNetLemmatizer()\n",
    "\n",
    "# function to perform lemmatization on a sentence\n",
    "def lemmatize_sentence(sentence):\n",
    "    # tokenize the sentence into words\n",
    "    token_words = nltk.word_tokenize(sentence)\n",
    "    # lemmatize each word in the sentence\n",
    "    lemmatized_sentence = ' '.join([lemmatizer.lemmatize(w) for w in token_words])\n",
    "    return lemmatized_sentence"
   ]
  },
  {
   "cell_type": "code",
   "execution_count": 60,
   "id": "c38f4377",
   "metadata": {},
   "outputs": [],
   "source": [
    "import nltk\n",
    "\n",
    "#nltk.download('punkt')\n",
    "\n",
    "#nltk.download('omw-1.4')\n",
    "\n",
    "train_df['title1_en'] = train_df['title1_en'].apply(lemmatize_sentence)\n",
    "train_df['title2_en'] = train_df['title2_en'].apply(lemmatize_sentence)\n",
    "test_df['title1_en'] = test_df['title1_en'].apply(lemmatize_sentence)\n",
    "test_df['title2_en'] = test_df['title2_en'].apply(lemmatize_sentence)"
   ]
  },
  {
   "cell_type": "code",
   "execution_count": 61,
   "id": "7e121c94",
   "metadata": {},
   "outputs": [],
   "source": [
    "# Split the data into training and validation sets\n",
    "train_texts, valid_texts, train_labels, valid_labels = train_test_split(train_df[['title1_en', 'title2_en']], train_df['label'], test_size=0.2)"
   ]
  },
  {
   "cell_type": "code",
   "execution_count": 62,
   "id": "67d439ae",
   "metadata": {},
   "outputs": [],
   "source": [
    "# Convert the text data to TF-IDF feature vectors\n",
    "tfidf = TfidfVectorizer(stop_words='english')\n",
    "train_features = tfidf.fit_transform(train_texts['title1_en'] + ' ' + train_texts['title2_en'])\n",
    "valid_features = tfidf.transform(valid_texts['title1_en'] + ' ' + valid_texts['title2_en'])"
   ]
  },
  {
   "cell_type": "code",
   "execution_count": 63,
   "id": "0b04532d",
   "metadata": {},
   "outputs": [
    {
     "data": {
      "text/html": [
       "<style>#sk-container-id-4 {color: black;background-color: white;}#sk-container-id-4 pre{padding: 0;}#sk-container-id-4 div.sk-toggleable {background-color: white;}#sk-container-id-4 label.sk-toggleable__label {cursor: pointer;display: block;width: 100%;margin-bottom: 0;padding: 0.3em;box-sizing: border-box;text-align: center;}#sk-container-id-4 label.sk-toggleable__label-arrow:before {content: \"▸\";float: left;margin-right: 0.25em;color: #696969;}#sk-container-id-4 label.sk-toggleable__label-arrow:hover:before {color: black;}#sk-container-id-4 div.sk-estimator:hover label.sk-toggleable__label-arrow:before {color: black;}#sk-container-id-4 div.sk-toggleable__content {max-height: 0;max-width: 0;overflow: hidden;text-align: left;background-color: #f0f8ff;}#sk-container-id-4 div.sk-toggleable__content pre {margin: 0.2em;color: black;border-radius: 0.25em;background-color: #f0f8ff;}#sk-container-id-4 input.sk-toggleable__control:checked~div.sk-toggleable__content {max-height: 200px;max-width: 100%;overflow: auto;}#sk-container-id-4 input.sk-toggleable__control:checked~label.sk-toggleable__label-arrow:before {content: \"▾\";}#sk-container-id-4 div.sk-estimator input.sk-toggleable__control:checked~label.sk-toggleable__label {background-color: #d4ebff;}#sk-container-id-4 div.sk-label input.sk-toggleable__control:checked~label.sk-toggleable__label {background-color: #d4ebff;}#sk-container-id-4 input.sk-hidden--visually {border: 0;clip: rect(1px 1px 1px 1px);clip: rect(1px, 1px, 1px, 1px);height: 1px;margin: -1px;overflow: hidden;padding: 0;position: absolute;width: 1px;}#sk-container-id-4 div.sk-estimator {font-family: monospace;background-color: #f0f8ff;border: 1px dotted black;border-radius: 0.25em;box-sizing: border-box;margin-bottom: 0.5em;}#sk-container-id-4 div.sk-estimator:hover {background-color: #d4ebff;}#sk-container-id-4 div.sk-parallel-item::after {content: \"\";width: 100%;border-bottom: 1px solid gray;flex-grow: 1;}#sk-container-id-4 div.sk-label:hover label.sk-toggleable__label {background-color: #d4ebff;}#sk-container-id-4 div.sk-serial::before {content: \"\";position: absolute;border-left: 1px solid gray;box-sizing: border-box;top: 0;bottom: 0;left: 50%;z-index: 0;}#sk-container-id-4 div.sk-serial {display: flex;flex-direction: column;align-items: center;background-color: white;padding-right: 0.2em;padding-left: 0.2em;position: relative;}#sk-container-id-4 div.sk-item {position: relative;z-index: 1;}#sk-container-id-4 div.sk-parallel {display: flex;align-items: stretch;justify-content: center;background-color: white;position: relative;}#sk-container-id-4 div.sk-item::before, #sk-container-id-4 div.sk-parallel-item::before {content: \"\";position: absolute;border-left: 1px solid gray;box-sizing: border-box;top: 0;bottom: 0;left: 50%;z-index: -1;}#sk-container-id-4 div.sk-parallel-item {display: flex;flex-direction: column;z-index: 1;position: relative;background-color: white;}#sk-container-id-4 div.sk-parallel-item:first-child::after {align-self: flex-end;width: 50%;}#sk-container-id-4 div.sk-parallel-item:last-child::after {align-self: flex-start;width: 50%;}#sk-container-id-4 div.sk-parallel-item:only-child::after {width: 0;}#sk-container-id-4 div.sk-dashed-wrapped {border: 1px dashed gray;margin: 0 0.4em 0.5em 0.4em;box-sizing: border-box;padding-bottom: 0.4em;background-color: white;}#sk-container-id-4 div.sk-label label {font-family: monospace;font-weight: bold;display: inline-block;line-height: 1.2em;}#sk-container-id-4 div.sk-label-container {text-align: center;}#sk-container-id-4 div.sk-container {/* jupyter's `normalize.less` sets `[hidden] { display: none; }` but bootstrap.min.css set `[hidden] { display: none !important; }` so we also need the `!important` here to be able to override the default hidden behavior on the sphinx rendered scikit-learn.org. See: https://github.com/scikit-learn/scikit-learn/issues/21755 */display: inline-block !important;position: relative;}#sk-container-id-4 div.sk-text-repr-fallback {display: none;}</style><div id=\"sk-container-id-4\" class=\"sk-top-container\"><div class=\"sk-text-repr-fallback\"><pre>LogisticRegression(max_iter=10000)</pre><b>In a Jupyter environment, please rerun this cell to show the HTML representation or trust the notebook. <br />On GitHub, the HTML representation is unable to render, please try loading this page with nbviewer.org.</b></div><div class=\"sk-container\" hidden><div class=\"sk-item\"><div class=\"sk-estimator sk-toggleable\"><input class=\"sk-toggleable__control sk-hidden--visually\" id=\"sk-estimator-id-4\" type=\"checkbox\" checked><label for=\"sk-estimator-id-4\" class=\"sk-toggleable__label sk-toggleable__label-arrow\">LogisticRegression</label><div class=\"sk-toggleable__content\"><pre>LogisticRegression(max_iter=10000)</pre></div></div></div></div></div>"
      ],
      "text/plain": [
       "LogisticRegression(max_iter=10000)"
      ]
     },
     "execution_count": 63,
     "metadata": {},
     "output_type": "execute_result"
    }
   ],
   "source": [
    "# Train a logistic regression model on the training data\n",
    "clf = LogisticRegression(max_iter=10000)\n",
    "clf.fit(train_features, train_labels)"
   ]
  },
  {
   "cell_type": "code",
   "execution_count": 64,
   "id": "fcf49a71",
   "metadata": {},
   "outputs": [
    {
     "name": "stdout",
     "output_type": "stream",
     "text": [
      "              precision    recall  f1-score   support\n",
      "\n",
      "      agreed       0.74      0.61      0.67     14975\n",
      "   disagreed       0.73      0.18      0.29      1349\n",
      "   unrelated       0.82      0.91      0.86     34965\n",
      "\n",
      "    accuracy                           0.80     51289\n",
      "   macro avg       0.76      0.57      0.61     51289\n",
      "weighted avg       0.80      0.80      0.79     51289\n",
      "\n"
     ]
    }
   ],
   "source": [
    "# Evaluate the model on the validation data and print the classification report\n",
    "valid_preds = clf.predict(valid_features)\n",
    "print(classification_report(valid_labels, valid_preds))"
   ]
  },
  {
   "cell_type": "code",
   "execution_count": 65,
   "id": "10ef582c",
   "metadata": {
    "scrolled": true
   },
   "outputs": [
    {
     "name": "stdout",
     "output_type": "stream",
     "text": [
      "Confusion Matrix:\n",
      " [[ 9127    11  5837]\n",
      " [   49   244  1056]\n",
      " [ 3139    79 31747]]\n",
      "Accuracy Score: 0.8016923706837723\n"
     ]
    }
   ],
   "source": [
    "from sklearn.metrics import confusion_matrix, accuracy_score\n",
    "\n",
    "# Calculate the confusion matrix on the validation data\n",
    "cm = confusion_matrix(valid_labels, valid_preds)\n",
    "\n",
    "# Calculate the accuracy score on the validation data\n",
    "acc = accuracy_score(valid_labels, valid_preds)\n",
    "\n",
    "print('Confusion Matrix:\\n', cm)\n",
    "print('Accuracy Score:', acc)"
   ]
  },
  {
   "cell_type": "code",
   "execution_count": 69,
   "id": "d3fca3e7",
   "metadata": {},
   "outputs": [],
   "source": [
    "# Make predictions on validation data\n",
    "valid_preds = clf.predict(valid_features)"
   ]
  },
  {
   "cell_type": "code",
   "execution_count": 71,
   "id": "cc14c686",
   "metadata": {},
   "outputs": [],
   "source": [
    "# Make predictions on test data\n",
    "test_features = tfidf.transform(test_df['title1_en'] + ' ' + test_df['title2_en'])\n",
    "test_preds = clf.predict(test_features)"
   ]
  },
  {
   "cell_type": "code",
   "execution_count": 72,
   "id": "5e339363",
   "metadata": {},
   "outputs": [],
   "source": [
    "# Save predictions to a CSV file\n",
    "submission_df = pd.DataFrame({'id': test_df['id'], 'label': test_preds})\n",
    "submission_df.to_csv('submission.csv', index=False)"
   ]
  }
 ],
 "metadata": {
  "kernelspec": {
   "display_name": "Python 3 (ipykernel)",
   "language": "python",
   "name": "python3"
  },
  "language_info": {
   "codemirror_mode": {
    "name": "ipython",
    "version": 3
   },
   "file_extension": ".py",
   "mimetype": "text/x-python",
   "name": "python",
   "nbconvert_exporter": "python",
   "pygments_lexer": "ipython3",
   "version": "3.10.9"
  }
 },
 "nbformat": 4,
 "nbformat_minor": 5
}
