{
 "cells": [
  {
   "cell_type": "code",
   "execution_count": 51,
   "id": "40c5fc49",
   "metadata": {},
   "outputs": [],
   "source": [
    "# Load the data\n",
    "import pandas as pd"
   ]
  },
  {
   "cell_type": "code",
   "execution_count": 52,
   "id": "974dab7c",
   "metadata": {},
   "outputs": [],
   "source": [
    "# Preprocess the data\n",
    "import re\n",
    "import nltk\n",
    "from nltk.corpus import stopwords\n",
    "from nltk.stem import WordNetLemmatizer"
   ]
  },
  {
   "cell_type": "code",
   "execution_count": 53,
   "id": "7144035a",
   "metadata": {},
   "outputs": [],
   "source": [
    "file_path1=\"C:\\\\Users\\\\ganya\\\\OneDrive\\\\Documents\\\\IIT GANYA\\\\SPRING 2023\\\\OSNA\\\\Project -2\\\\prepro_train.csv\"\n",
    "train_df = pd.read_csv(file_path1)\n",
    "file_path2=\"C:\\\\Users\\\\ganya\\\\OneDrive\\\\Documents\\\\IIT GANYA\\\\SPRING 2023\\\\OSNA\\\\Project -2\\\\prepro_test.csv\"\n",
    "test_df = pd.read_csv(file_path2)"
   ]
  },
  {
   "cell_type": "code",
   "execution_count": 54,
   "id": "542e9229",
   "metadata": {},
   "outputs": [],
   "source": [
    "train_df['title1_en']=train_df['title1_en'].apply(str)\n",
    "train_df['title2_en']=train_df['title2_en'].apply(str)\n",
    "test_df['title1_en']=test_df['title1_en'].apply(str)\n",
    "test_df['title2_en']=test_df['title2_en'].apply(str)"
   ]
  },
  {
   "cell_type": "code",
   "execution_count": 55,
   "id": "91a881bc",
   "metadata": {},
   "outputs": [],
   "source": [
    "# initialize WordNetLemmatizer\n",
    "lemmatizer = WordNetLemmatizer()\n",
    "\n",
    "# function to perform lemmatization on a sentence\n",
    "def lemmatize_sentence(sentence):\n",
    "    # tokenize the sentence into words\n",
    "    token_words = nltk.word_tokenize(sentence)\n",
    "    # lemmatize each word in the sentence\n",
    "    lemmatized_sentence = ' '.join([lemmatizer.lemmatize(w) for w in token_words])\n",
    "    return lemmatized_sentence"
   ]
  },
  {
   "cell_type": "code",
   "execution_count": 56,
   "id": "aad4cbc8",
   "metadata": {},
   "outputs": [],
   "source": [
    "import nltk\n",
    "\n",
    "#nltk.download('punkt')\n",
    "\n",
    "#nltk.download('omw-1.4')\n",
    "\n",
    "\n",
    "train_df['title1_en'] = train_df['title1_en'].apply(lemmatize_sentence)\n",
    "train_df['title2_en'] = train_df['title2_en'].apply(lemmatize_sentence)\n",
    "test_df['title1_en'] = test_df['title1_en'].apply(lemmatize_sentence)\n",
    "test_df['title2_en'] = test_df['title2_en'].apply(lemmatize_sentence)"
   ]
  },
  {
   "cell_type": "code",
   "execution_count": 57,
   "id": "49c65731",
   "metadata": {},
   "outputs": [],
   "source": [
    "# Step 3: Feature engineering\n",
    "from sklearn.feature_extraction.text import TfidfVectorizer\n",
    "\n",
    "vectorizer = TfidfVectorizer(ngram_range=(1,2), max_features=5000)\n",
    "X_train = vectorizer.fit_transform(train_df['title1_en'] + ' ' + train_df['title2_en'])\n",
    "y_train = train_df['label']\n",
    "X_test = vectorizer.transform(test_df['title1_en'] + ' ' + test_df['title2_en'])"
   ]
  },
  {
   "cell_type": "code",
   "execution_count": 58,
   "id": "fcc4f19a",
   "metadata": {},
   "outputs": [],
   "source": [
    "from sklearn.metrics import accuracy_score"
   ]
  },
  {
   "cell_type": "code",
   "execution_count": 59,
   "id": "d08e9d90",
   "metadata": {},
   "outputs": [
    {
     "name": "stdout",
     "output_type": "stream",
     "text": [
      "Multinomial Naive Bayes accuracy: 0.7210458586803931\n"
     ]
    }
   ],
   "source": [
    "# Train and evaluate a Multinomial Naive Bayes classifier\n",
    "from sklearn.naive_bayes import MultinomialNB\n",
    "\n",
    "nb = MultinomialNB()\n",
    "nb.fit(X_train, y_train)\n",
    "y_pred_nb = nb.predict(X_val)\n",
    "print(\"Multinomial Naive Bayes accuracy:\", accuracy_score(y_val, y_pred_nb))"
   ]
  },
  {
   "cell_type": "code",
   "execution_count": 60,
   "id": "a7b84096",
   "metadata": {
    "scrolled": false
   },
   "outputs": [
    {
     "name": "stdout",
     "output_type": "stream",
     "text": [
      "              precision    recall  f1-score   support\n",
      "\n",
      "      agreed       0.59      0.39      0.47     14813\n",
      "   disagreed       0.51      0.20      0.29      1321\n",
      "   unrelated       0.75      0.88      0.81     35154\n",
      "\n",
      "    accuracy                           0.72     51288\n",
      "   macro avg       0.62      0.49      0.52     51288\n",
      "weighted avg       0.70      0.72      0.70     51288\n",
      "\n"
     ]
    }
   ],
   "source": [
    "# Evaluate the model on the validation data and print the classification report\n",
    "from sklearn.metrics import classification_report\n",
    "\n",
    "# Print precision, recall, and f1-score\n",
    "print(classification_report(y_val, y_pred_nb))"
   ]
  },
  {
   "cell_type": "code",
   "execution_count": 61,
   "id": "27fb5f12",
   "metadata": {},
   "outputs": [
    {
     "name": "stdout",
     "output_type": "stream",
     "text": [
      "Confusion Matrix:\n",
      " [[ 5724    46  9043]\n",
      " [   16   264  1041]\n",
      " [ 3949   212 30993]]\n",
      "Accuracy Score: 0.7210458586803931\n"
     ]
    }
   ],
   "source": [
    "from sklearn.metrics import confusion_matrix, accuracy_score\n",
    "\n",
    "# Calculate the confusion matrix on the validation data\n",
    "cm = confusion_matrix(y_val, y_pred_nb)\n",
    "\n",
    "# Calculate the accuracy score on the validation data\n",
    "acc = accuracy_score(y_val, y_pred_nb)\n",
    "\n",
    "print('Confusion Matrix:\\n', cm)\n",
    "print('Accuracy Score:', acc)"
   ]
  }
 ],
 "metadata": {
  "kernelspec": {
   "display_name": "Python 3 (ipykernel)",
   "language": "python",
   "name": "python3"
  },
  "language_info": {
   "codemirror_mode": {
    "name": "ipython",
    "version": 3
   },
   "file_extension": ".py",
   "mimetype": "text/x-python",
   "name": "python",
   "nbconvert_exporter": "python",
   "pygments_lexer": "ipython3",
   "version": "3.10.9"
  }
 },
 "nbformat": 4,
 "nbformat_minor": 5
}
