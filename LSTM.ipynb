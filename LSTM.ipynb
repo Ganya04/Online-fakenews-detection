{
 "cells": [
  {
   "cell_type": "code",
   "execution_count": 4,
   "id": "a38db6e1",
   "metadata": {
    "scrolled": false
   },
   "outputs": [],
   "source": [
    "#!pip install tensorflow"
   ]
  },
  {
   "cell_type": "code",
   "execution_count": 24,
   "id": "50432a2d",
   "metadata": {},
   "outputs": [],
   "source": [
    "import pandas as pd\n",
    "import numpy as np\n",
    "import tensorflow as tf\n",
    "from tensorflow.keras.preprocessing.text import Tokenizer\n",
    "from tensorflow.keras.preprocessing.sequence import pad_sequences"
   ]
  },
  {
   "cell_type": "code",
   "execution_count": 6,
   "id": "3f06eb36",
   "metadata": {},
   "outputs": [],
   "source": [
    "# Step 2: Preprocess the data\n",
    "import re\n",
    "import nltk\n",
    "from nltk.corpus import stopwords\n",
    "from nltk.stem import WordNetLemmatizer"
   ]
  },
  {
   "cell_type": "code",
   "execution_count": 25,
   "id": "4f077a42",
   "metadata": {},
   "outputs": [],
   "source": [
    "file_path1=\"C:\\\\Users\\\\ganya\\\\OneDrive\\\\Documents\\\\IIT GANYA\\\\SPRING 2023\\\\OSNA\\\\Project -2\\\\prepro_train.csv\"\n",
    "train_df = pd.read_csv(file_path1)\n",
    "file_path2=\"C:\\\\Users\\\\ganya\\\\OneDrive\\\\Documents\\\\IIT GANYA\\\\SPRING 2023\\\\OSNA\\\\Project -2\\\\prepro_test.csv\"\n",
    "test_df = pd.read_csv(file_path2)"
   ]
  },
  {
   "cell_type": "code",
   "execution_count": 8,
   "id": "5f614868",
   "metadata": {},
   "outputs": [],
   "source": [
    "train_df['title1_en']=train_df['title1_en'].apply(str)\n",
    "train_df['title2_en']=train_df['title2_en'].apply(str)\n",
    "test_df['title1_en']=test_df['title1_en'].apply(str)b\n",
    "test_df['title2_en']=test_df['title2_en'].apply(str)"
   ]
  },
  {
   "cell_type": "code",
   "execution_count": 9,
   "id": "8d6aee7b",
   "metadata": {},
   "outputs": [],
   "source": [
    "# initialize WordNetLemmatizer\n",
    "lemmatizer = WordNetLemmatizer()\n",
    "\n",
    "# function to perform lemmatization on a sentence\n",
    "def lemmatize_sentence(sentence):\n",
    "    # tokenize the sentence into words\n",
    "    token_words = nltk.word_tokenize(sentence)\n",
    "    # lemmatize each word in the sentence\n",
    "    lemmatized_sentence = ' '.join([lemmatizer.lemmatize(w) for w in token_words])\n",
    "    return lemmatized_sentence"
   ]
  },
  {
   "cell_type": "code",
   "execution_count": 10,
   "id": "ffab6c75",
   "metadata": {},
   "outputs": [],
   "source": [
    "import nltk\n",
    "\n",
    "#nltk.download('punkt')\n",
    "\n",
    "#nltk.download('omw-1.4')\n",
    "\n",
    "\n",
    "train_df['title1_en'] = train_df['title1_en'].apply(lemmatize_sentence)\n",
    "train_df['title2_en'] = train_df['title2_en'].apply(lemmatize_sentence)\n",
    "test_df['title1_en'] = test_df['title1_en'].apply(lemmatize_sentence)\n",
    "test_df['title2_en'] = test_df['title2_en'].apply(lemmatize_sentence)"
   ]
  },
  {
   "cell_type": "code",
   "execution_count": 28,
   "id": "c970a5c1",
   "metadata": {},
   "outputs": [],
   "source": [
    "# Tokenize the text\n",
    "tokenizer = Tokenizer()\n",
    "tokenizer.fit_on_texts(train_df['title1_en'].values)\n",
    "word_index = tokenizer.word_index"
   ]
  },
  {
   "cell_type": "code",
   "execution_count": 30,
   "id": "1a2cf15a",
   "metadata": {},
   "outputs": [],
   "source": [
    "# Pad the sequences\n",
    "train_sequences = tokenizer.texts_to_sequences(train_df['title1_en'].values)\n",
    "train_padded = pad_sequences(train_sequences, maxlen=30, padding='post', truncating='post')\n",
    "test_sequences = tokenizer.texts_to_sequences(test_df['title1_en'].values)\n",
    "test_padded = pad_sequences(test_sequences, maxlen=30, padding='post', truncating='post')"
   ]
  },
  {
   "cell_type": "code",
   "execution_count": 31,
   "id": "e2a8e935",
   "metadata": {},
   "outputs": [],
   "source": [
    "# Define the model\n",
    "model = tf.keras.models.Sequential([\n",
    "    tf.keras.layers.Embedding(len(word_index)+1, 64, input_length=30),\n",
    "    tf.keras.layers.LSTM(64),\n",
    "    tf.keras.layers.Dense(3, activation='softmax')\n",
    "])"
   ]
  },
  {
   "cell_type": "code",
   "execution_count": 32,
   "id": "02170334",
   "metadata": {},
   "outputs": [],
   "source": [
    "# Compile the model\n",
    "model.compile(loss='categorical_crossentropy', optimizer='adam', metrics=['accuracy'])"
   ]
  },
  {
   "cell_type": "code",
   "execution_count": 34,
   "id": "d7a66ea1",
   "metadata": {},
   "outputs": [],
   "source": [
    "# Convert the labels to one-hot encoding\n",
    "train_labels = pd.get_dummies(train_df['label']).values\n"
   ]
  },
  {
   "cell_type": "code",
   "execution_count": 37,
   "id": "fc8072b6",
   "metadata": {},
   "outputs": [
    {
     "name": "stdout",
     "output_type": "stream",
     "text": [
      "Epoch 1/10\n",
      "6412/6412 [==============================] - 148s 23ms/step - loss: 0.2766 - accuracy: 0.8744 - val_loss: 1.0689 - val_accuracy: 0.6151\n",
      "Epoch 2/10\n",
      "6412/6412 [==============================] - 153s 24ms/step - loss: 0.2749 - accuracy: 0.8757 - val_loss: 1.0250 - val_accuracy: 0.6208\n",
      "Epoch 3/10\n",
      "6412/6412 [==============================] - 152s 24ms/step - loss: 0.2744 - accuracy: 0.8755 - val_loss: 1.0460 - val_accuracy: 0.6269\n",
      "Epoch 4/10\n",
      "6412/6412 [==============================] - 163s 25ms/step - loss: 0.2737 - accuracy: 0.8763 - val_loss: 1.0541 - val_accuracy: 0.6379\n",
      "Epoch 5/10\n",
      "6412/6412 [==============================] - 163s 25ms/step - loss: 0.2721 - accuracy: 0.8764 - val_loss: 0.9883 - val_accuracy: 0.6270\n",
      "Epoch 6/10\n",
      "6412/6412 [==============================] - 160s 25ms/step - loss: 0.2709 - accuracy: 0.8772 - val_loss: 1.0612 - val_accuracy: 0.5979\n",
      "Epoch 7/10\n",
      "6412/6412 [==============================] - 154s 24ms/step - loss: 0.2709 - accuracy: 0.8774 - val_loss: 1.0232 - val_accuracy: 0.6132\n",
      "Epoch 8/10\n",
      "6412/6412 [==============================] - 156s 24ms/step - loss: 0.2698 - accuracy: 0.8777 - val_loss: 1.0169 - val_accuracy: 0.6345\n",
      "Epoch 9/10\n",
      "6412/6412 [==============================] - 158s 25ms/step - loss: 0.2686 - accuracy: 0.8774 - val_loss: 1.0523 - val_accuracy: 0.6043\n",
      "Epoch 10/10\n",
      "6412/6412 [==============================] - 152s 24ms/step - loss: 0.2686 - accuracy: 0.8783 - val_loss: 1.0755 - val_accuracy: 0.6145\n"
     ]
    },
    {
     "data": {
      "text/plain": [
       "<keras.callbacks.History at 0x191f7a89ff0>"
      ]
     },
     "execution_count": 37,
     "metadata": {},
     "output_type": "execute_result"
    }
   ],
   "source": [
    "# Train the model\n",
    "model.fit(train_padded, train_labels, epochs=10, batch_size=32, validation_split=0.2)\n"
   ]
  },
  {
   "cell_type": "code",
   "execution_count": 38,
   "id": "08cd3268",
   "metadata": {},
   "outputs": [
    {
     "name": "stdout",
     "output_type": "stream",
     "text": [
      "Epoch 1/10\n",
      "6412/6412 [==============================] - 188s 29ms/step - loss: 0.2672 - accuracy: 0.8785 - val_loss: 1.0625 - val_accuracy: 0.6004\n",
      "Epoch 2/10\n",
      "6412/6412 [==============================] - 179s 28ms/step - loss: 0.2670 - accuracy: 0.8784 - val_loss: 1.0207 - val_accuracy: 0.6284\n",
      "Epoch 3/10\n",
      "6412/6412 [==============================] - 182s 28ms/step - loss: 0.2667 - accuracy: 0.8787 - val_loss: 1.0836 - val_accuracy: 0.6255\n",
      "Epoch 4/10\n",
      "6412/6412 [==============================] - 178s 28ms/step - loss: 0.2659 - accuracy: 0.8789 - val_loss: 1.0925 - val_accuracy: 0.6157\n",
      "Epoch 5/10\n",
      "6412/6412 [==============================] - 182s 28ms/step - loss: 0.2659 - accuracy: 0.8791 - val_loss: 1.0391 - val_accuracy: 0.6207\n",
      "Epoch 6/10\n",
      "6412/6412 [==============================] - 184s 29ms/step - loss: 0.2650 - accuracy: 0.8794 - val_loss: 1.1016 - val_accuracy: 0.6041\n",
      "Epoch 7/10\n",
      "6412/6412 [==============================] - 177s 28ms/step - loss: 0.2639 - accuracy: 0.8795 - val_loss: 1.0250 - val_accuracy: 0.6289\n",
      "Epoch 8/10\n",
      "6412/6412 [==============================] - 181s 28ms/step - loss: 0.2648 - accuracy: 0.8795 - val_loss: 1.0921 - val_accuracy: 0.6080\n",
      "Epoch 9/10\n",
      "6412/6412 [==============================] - 179s 28ms/step - loss: 0.2633 - accuracy: 0.8800 - val_loss: 1.0585 - val_accuracy: 0.6122\n",
      "Epoch 10/10\n",
      "6412/6412 [==============================] - 180s 28ms/step - loss: 0.2638 - accuracy: 0.8797 - val_loss: 1.0525 - val_accuracy: 0.6047\n"
     ]
    },
    {
     "data": {
      "image/png": "[encoded data removed]",
      "text/plain": [
       "<Figure size 640x480 with 1 Axes>"
      ]
     },
     "metadata": {},
     "output_type": "display_data"
    },
    {
     "data": {
      "image/png": "[encoded data removed]",
      "text/plain": [
       "<Figure size 640x480 with 1 Axes>"
      ]
     },
     "metadata": {},
     "output_type": "display_data"
    }
   ],
   "source": [
    "import matplotlib.pyplot as plt\n",
    "\n",
    "# Train the model and obtain the history object\n",
    "history = model.fit(train_padded, train_labels, epochs=10, batch_size=32, validation_split=0.2)\n",
    "\n",
    "# Plot the training and validation loss over epochs\n",
    "plt.plot(history.history['loss'])\n",
    "plt.plot(history.history['val_loss'])\n",
    "plt.title('Model Loss')\n",
    "plt.ylabel('Loss')\n",
    "plt.xlabel('Epoch')\n",
    "plt.legend(['train', 'validation'], loc='upper right')\n",
    "plt.show()\n",
    "\n",
    "# Plot the training and validation accuracy over epochs\n",
    "plt.plot(history.history['accuracy'])\n",
    "plt.plot(history.history['val_accuracy'])\n",
    "plt.title('Model Accuracy')\n",
    "plt.ylabel('Accuracy')\n",
    "plt.xlabel('Epoch')\n",
    "plt.legend(['train', 'validation'], loc='lower right')\n",
    "plt.show()\n"
   ]
  }
 ],
 "metadata": {
  "kernelspec": {
   "display_name": "Python 3 (ipykernel)",
   "language": "python",
   "name": "python3"
  },
  "language_info": {
   "codemirror_mode": {
    "name": "ipython",
    "version": 3
   },
   "file_extension": ".py",
   "mimetype": "text/x-python",
   "name": "python",
   "nbconvert_exporter": "python",
   "pygments_lexer": "ipython3",
   "version": "3.10.9"
  }
 },
 "nbformat": 4,
 "nbformat_minor": 5
}
